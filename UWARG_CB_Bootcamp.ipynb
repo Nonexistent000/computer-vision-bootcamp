{
 "cells": [
  {
   "cell_type": "markdown",
   "metadata": {},
   "source": [
    "# WARG CV BOOTCAMP"
   ]
  },
  {
   "cell_type": "markdown",
   "metadata": {},
   "source": [
    "## Imports"
   ]
  },
  {
   "cell_type": "code",
   "execution_count": 25,
   "metadata": {},
   "outputs": [
    {
     "name": "stdout",
     "output_type": "stream",
     "text": [
      "2.7.0\n"
     ]
    }
   ],
   "source": [
    "import numpy as np\n",
    "import tensorflow as tf\n",
    "from matplotlib import pyplot as plt\n",
    "\n",
    "from Functions import *\n",
    "\n",
    "print(tf.__version__)"
   ]
  },
  {
   "cell_type": "markdown",
   "metadata": {},
   "source": [
    "## Resolving Invalid Certificate Error"
   ]
  },
  {
   "cell_type": "code",
   "execution_count": 18,
   "metadata": {},
   "outputs": [],
   "source": [
    "# from github - https://github.com/pytorch/pytorch/issues/33288\n",
    "\n",
    "import ssl\n",
    "\n",
    "try:\n",
    "    _create_unverified_https_context = ssl._create_unverified_context\n",
    "except AttributeError:\n",
    "    # Legacy Python that doesn't verify HTTPS certificates by default\n",
    "    pass\n",
    "else:\n",
    "    # Handle target environment that doesn't support HTTPS verification\n",
    "    ssl._create_default_https_context = _create_unverified_https_context"
   ]
  },
  {
   "cell_type": "markdown",
   "metadata": {},
   "source": [
    "# Loading Data and Normalization"
   ]
  },
  {
   "cell_type": "code",
   "execution_count": 19,
   "metadata": {},
   "outputs": [
    {
     "name": "stdout",
     "output_type": "stream",
     "text": [
      "Training Data: (50000, 32, 32, 3)\n",
      "Testing Data: (10000, 32, 32, 3)\n"
     ]
    }
   ],
   "source": [
    "xTrain, yTrain, xTest, yTest = load_normalize_categorize_data()\n",
    "\n",
    "# Print pixel values of training and testing data\n",
    "print(f\"Training Data: {xTrain.shape}\")\n",
    "print(f\"Testing Data: {xTest.shape}\")\n"
   ]
  },
  {
   "cell_type": "markdown",
   "metadata": {},
   "source": [
    "## Building the Sequential Model"
   ]
  },
  {
   "cell_type": "markdown",
   "metadata": {},
   "source": [
    "#### Defining Model Constants"
   ]
  },
  {
   "cell_type": "code",
   "execution_count": 21,
   "metadata": {},
   "outputs": [],
   "source": [
    "# Convolutional Layer Variables\n",
    "FILTERS = [32, 64, 128]\n",
    "KERNEL_SIZE = (3,3)\n",
    "ACTIVATION_R = \"relu\"\n",
    "PADDING = \"same\"\n",
    "INPUT_SHAPE = (32,32,3)\n",
    "DROPOUT_FACTOR = 0.2\n",
    "POOL_SIZE = (2,2)\n",
    "\n",
    "# Dense Layer w Softmax Activation Variable\n",
    "ACTIVATION_S = \"softmax\"\n",
    "UNITS = [128, 10]"
   ]
  },
  {
   "cell_type": "markdown",
   "metadata": {},
   "source": [
    "#### Building Model"
   ]
  },
  {
   "cell_type": "code",
   "execution_count": 26,
   "metadata": {},
   "outputs": [
    {
     "name": "stdout",
     "output_type": "stream",
     "text": [
      "Model: \"sequential_2\"\n",
      "_________________________________________________________________\n",
      " Layer (type)                Output Shape              Param #   \n",
      "=================================================================\n",
      " conv2d_6 (Conv2D)           (None, 32, 32, 32)        896       \n",
      "                                                                 \n",
      " max_pooling2d_6 (MaxPooling  (None, 16, 16, 32)       0         \n",
      " 2D)                                                             \n",
      "                                                                 \n",
      " dropout_6 (Dropout)         (None, 16, 16, 32)        0         \n",
      "                                                                 \n",
      " conv2d_7 (Conv2D)           (None, 14, 14, 64)        18496     \n",
      "                                                                 \n",
      " max_pooling2d_7 (MaxPooling  (None, 7, 7, 64)         0         \n",
      " 2D)                                                             \n",
      "                                                                 \n",
      " dropout_7 (Dropout)         (None, 7, 7, 64)          0         \n",
      "                                                                 \n",
      " conv2d_8 (Conv2D)           (None, 5, 5, 128)         73856     \n",
      "                                                                 \n",
      " max_pooling2d_8 (MaxPooling  (None, 2, 2, 128)        0         \n",
      " 2D)                                                             \n",
      "                                                                 \n",
      " dropout_8 (Dropout)         (None, 2, 2, 128)         0         \n",
      "                                                                 \n",
      " flatten_2 (Flatten)         (None, 512)               0         \n",
      "                                                                 \n",
      " dense_4 (Dense)             (None, 128)               65664     \n",
      "                                                                 \n",
      " dense_5 (Dense)             (None, 10)                1290      \n",
      "                                                                 \n",
      "=================================================================\n",
      "Total params: 160,202\n",
      "Trainable params: 160,202\n",
      "Non-trainable params: 0\n",
      "_________________________________________________________________\n"
     ]
    }
   ],
   "source": [
    "model = build_model(FILTERS, KERNEL_SIZE, ACTIVATION_R, PADDING, INPUT_SHAPE, DROPOUT_FACTOR, POOL_SIZE, UNITS, ACTIVATION_S)"
   ]
  },
  {
   "cell_type": "markdown",
   "metadata": {},
   "source": [
    "#### Compiling Model"
   ]
  },
  {
   "cell_type": "code",
   "execution_count": 23,
   "metadata": {},
   "outputs": [],
   "source": [
    "model.compile(\n",
    "   loss=\"categorical_crossentropy\",\n",
    "   optimizer=\"adam\",\n",
    "   metrics=[\"accuracy\"]\n",
    ")"
   ]
  },
  {
   "cell_type": "markdown",
   "metadata": {},
   "source": [
    "## Training (Fitting) & Evaluation of Model"
   ]
  },
  {
   "cell_type": "markdown",
   "metadata": {},
   "source": [
    "#### Defining Fitting Constants "
   ]
  },
  {
   "cell_type": "code",
   "execution_count": 24,
   "metadata": {},
   "outputs": [],
   "source": [
    "BATCH_SIZE = 32\n",
    "EPOCHS = 20"
   ]
  },
  {
   "cell_type": "code",
   "execution_count": 12,
   "metadata": {},
   "outputs": [
    {
     "name": "stdout",
     "output_type": "stream",
     "text": [
      "Epoch 1/20\n",
      "1563/1563 [==============================] - 52s 33ms/step - loss: 1.7427 - accuracy: 0.3659\n",
      "Epoch 2/20\n",
      "1563/1563 [==============================] - 50s 32ms/step - loss: 1.4004 - accuracy: 0.5013\n",
      "Epoch 3/20\n",
      "1563/1563 [==============================] - 56s 36ms/step - loss: 1.2684 - accuracy: 0.5509\n",
      "Epoch 4/20\n",
      "1563/1563 [==============================] - 59s 38ms/step - loss: 1.1704 - accuracy: 0.5886\n",
      "Epoch 5/20\n",
      "1563/1563 [==============================] - 57s 36ms/step - loss: 1.1138 - accuracy: 0.6099\n",
      "Epoch 6/20\n",
      "1563/1563 [==============================] - 55s 35ms/step - loss: 1.0668 - accuracy: 0.6253\n",
      "Epoch 7/20\n",
      "1563/1563 [==============================] - 55s 35ms/step - loss: 1.0231 - accuracy: 0.6414\n",
      "Epoch 8/20\n",
      "1563/1563 [==============================] - 55s 35ms/step - loss: 0.9882 - accuracy: 0.6519\n",
      "Epoch 9/20\n",
      "1563/1563 [==============================] - 56s 36ms/step - loss: 0.9580 - accuracy: 0.6645\n",
      "Epoch 10/20\n",
      "1563/1563 [==============================] - 47s 30ms/step - loss: 0.9325 - accuracy: 0.6735\n",
      "Epoch 11/20\n",
      "1563/1563 [==============================] - 54s 35ms/step - loss: 0.9097 - accuracy: 0.6799\n",
      "Epoch 12/20\n",
      "1563/1563 [==============================] - 53s 34ms/step - loss: 0.8829 - accuracy: 0.6891\n",
      "Epoch 13/20\n",
      "1563/1563 [==============================] - 57s 36ms/step - loss: 0.8640 - accuracy: 0.6985\n",
      "Epoch 14/20\n",
      "1563/1563 [==============================] - 58s 37ms/step - loss: 0.8555 - accuracy: 0.6984\n",
      "Epoch 15/20\n",
      "1563/1563 [==============================] - 55s 36ms/step - loss: 0.8356 - accuracy: 0.7086\n",
      "Epoch 16/20\n",
      "1563/1563 [==============================] - 54s 35ms/step - loss: 0.8170 - accuracy: 0.7134\n",
      "Epoch 17/20\n",
      "1563/1563 [==============================] - 61s 39ms/step - loss: 0.8099 - accuracy: 0.7149\n",
      "Epoch 18/20\n",
      "1563/1563 [==============================] - 55s 35ms/step - loss: 0.7893 - accuracy: 0.7221\n",
      "Epoch 19/20\n",
      "1563/1563 [==============================] - 54s 34ms/step - loss: 0.7883 - accuracy: 0.7247\n",
      "Epoch 20/20\n",
      "1563/1563 [==============================] - 52s 33ms/step - loss: 0.7832 - accuracy: 0.7259\n"
     ]
    }
   ],
   "source": [
    "# print(x_train)\n",
    "# print(y_train)\n",
    "\n",
    "training = model.fit(xTrain, yTrain, batch_size = BATCH_SIZE, epochs = EPOCHS)"
   ]
  },
  {
   "cell_type": "markdown",
   "metadata": {},
   "source": [
    "#### Evaluating Model"
   ]
  },
  {
   "cell_type": "code",
   "execution_count": 13,
   "metadata": {},
   "outputs": [
    {
     "name": "stdout",
     "output_type": "stream",
     "text": [
      "313/313 [==============================] - 3s 9ms/step - loss: 0.8256 - accuracy: 0.7209\n"
     ]
    }
   ],
   "source": [
    "valLoss, valAccuracy = model.evaluate(xTest, yTest)"
   ]
  },
  {
   "cell_type": "markdown",
   "metadata": {},
   "source": [
    "## Plotting Graphs"
   ]
  },
  {
   "cell_type": "markdown",
   "metadata": {},
   "source": [
    "#### Defining Plot Variables"
   ]
  },
  {
   "cell_type": "code",
   "execution_count": 14,
   "metadata": {},
   "outputs": [],
   "source": [
    "loss = training.history['loss']\n",
    "accuracy = training.history['accuracy']\n",
    "epochs = [i+1 for i in range(len(loss))]"
   ]
  },
  {
   "cell_type": "markdown",
   "metadata": {},
   "source": [
    "#### Plotting Graphs"
   ]
  },
  {
   "cell_type": "code",
   "execution_count": 15,
   "metadata": {},
   "outputs": [
    {
     "data": {
      "image/png": "[encoded data removed]",
      "text/plain": [
       "<Figure size 432x288 with 1 Axes>"
      ]
     },
     "metadata": {
      "needs_background": "light"
     },
     "output_type": "display_data"
    },
    {
     "data": {
      "image/png": "[encoded data removed]",
      "text/plain": [
       "<Figure size 432x288 with 1 Axes>"
      ]
     },
     "metadata": {
      "needs_background": "light"
     },
     "output_type": "display_data"
    }
   ],
   "source": [
    "plot_graph(x=epochs, y=loss, fmt=\"-m\", title=\"Training Loss over Epochs\", xLabel=\"Epochs\", yLabel=\"Loss\")\n",
    "plot_graph(x=epochs, y=accuracy, fmt=\"-g\", title=\"Training Accuracy over Epochs\", xLabel=\"Epochs\", yLabel=\"Accuracy\")"
   ]
  },
  {
   "cell_type": "markdown",
   "metadata": {},
   "source": [
    "## Summary of Model"
   ]
  },
  {
   "cell_type": "code",
   "execution_count": 16,
   "metadata": {},
   "outputs": [
    {
     "name": "stdout",
     "output_type": "stream",
     "text": [
      "Training Loss: 0.7831885814666748\n",
      "Training Accuracy: 0.7258999943733215\n",
      "--------------------------------------\n",
      "Validation Loss: 0.8255831003189087\n",
      "Validation Accuracy: 0.7208999991416931\n"
     ]
    }
   ],
   "source": [
    "print(f\"Training Loss: {loss[-1]}\")\n",
    "print(f\"Training Accuracy: {accuracy[-1]}\")\n",
    "print(\"--------------------------------------\")\n",
    "print(f\"Validation Loss: {valLoss}\")\n",
    "print(f\"Validation Accuracy: {valAccuracy}\")\n"
   ]
  }
 ],
 "metadata": {
  "interpreter": {
   "hash": "68c591502805fb46512319a8f38fddd123f1a0260155fa41c7311a007e59953e"
  },
  "kernelspec": {
   "display_name": "Python 3.9.6 64-bit ('env': venv)",
   "language": "python",
   "name": "python3"
  },
  "language_info": {
   "codemirror_mode": {
    "name": "ipython",
    "version": 3
   },
   "file_extension": ".py",
   "mimetype": "text/x-python",
   "name": "python",
   "nbconvert_exporter": "python",
   "pygments_lexer": "ipython3",
   "version": "3.9.6"
  },
  "orig_nbformat": 4
 },
 "nbformat": 4,
 "nbformat_minor": 2
}
