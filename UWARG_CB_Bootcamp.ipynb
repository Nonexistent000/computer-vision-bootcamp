{
 "cells": [
  {
   "cell_type": "markdown",
   "metadata": {},
   "source": [
    "# WARG CV BOOTCAMP"
   ]
  },
  {
   "cell_type": "markdown",
   "metadata": {},
   "source": [
    "## Imports"
   ]
  },
  {
   "cell_type": "code",
   "execution_count": 12,
   "metadata": {},
   "outputs": [
    {
     "name": "stdout",
     "output_type": "stream",
     "text": [
      "2.7.0\n"
     ]
    }
   ],
   "source": [
    "import numpy as np\n",
    "import tensorflow as tf\n",
    "from matplotlib import pyplot as plt\n",
    "\n",
    "from Functions import plot_graph\n",
    "\n",
    "print(tf.__version__)"
   ]
  },
  {
   "cell_type": "markdown",
   "metadata": {},
   "source": [
    "## Resolving Invalid Certificate Error"
   ]
  },
  {
   "cell_type": "code",
   "execution_count": 2,
   "metadata": {},
   "outputs": [],
   "source": [
    "# from stackoverflow - https://github.com/pytorch/pytorch/issues/33288\n",
    "\n",
    "import ssl\n",
    "\n",
    "try:\n",
    "    _create_unverified_https_context = ssl._create_unverified_context\n",
    "except AttributeError:\n",
    "    # Legacy Python that doesn't verify HTTPS certificates by default\n",
    "    pass\n",
    "else:\n",
    "    # Handle target environment that doesn't support HTTPS verification\n",
    "    ssl._create_default_https_context = _create_unverified_https_context"
   ]
  },
  {
   "cell_type": "markdown",
   "metadata": {},
   "source": [
    "# Loading Data and Normalization"
   ]
  },
  {
   "cell_type": "code",
   "execution_count": 3,
   "metadata": {},
   "outputs": [
    {
     "name": "stdout",
     "output_type": "stream",
     "text": [
      "Training Data: (50000, 32, 32, 3)\n",
      "Testing Data: (10000, 32, 32, 3)\n"
     ]
    }
   ],
   "source": [
    "data = tf.keras.datasets.cifar10\n",
    "\n",
    "# Loading in the training and test data\n",
    "# x_train --> pixel values\n",
    "# y_train --> labels (airplane, cats, dog, etc.)\n",
    "(xTrain, yTrain), (xTest, yTest) = data.load_data()\n",
    "\n",
    "# Print pixel values of training and testing data\n",
    "print(f\"Training Data: {x_train.shape}\")\n",
    "print(f\"Testing Data: {x_test.shape}\")\n"
   ]
  },
  {
   "cell_type": "code",
   "execution_count": 4,
   "metadata": {},
   "outputs": [],
   "source": [
    "# Normalize the data to convert from values of (0 to 255) to just (0 and 1) for the CNN\n",
    "xTrain = tf.keras.utils.normalize(xTrain, axis=1)\n",
    "xTest = tf.keras.utils.normalize(xTest, axis=1)\n",
    "\n",
    "# Categorizing Data\n",
    "yTrain = tf.keras.utils.to_categorical(yTrain)\n",
    "yTest = tf.keras.utils.to_categorical(yTest)"
   ]
  },
  {
   "cell_type": "markdown",
   "metadata": {},
   "source": [
    "## Building the Sequential Model"
   ]
  },
  {
   "cell_type": "markdown",
   "metadata": {},
   "source": [
    "#### Defining Model Constants"
   ]
  },
  {
   "cell_type": "code",
   "execution_count": 5,
   "metadata": {},
   "outputs": [],
   "source": [
    "# Convolutional Layer Variables\n",
    "KERNEL_SIZE = (3,3)\n",
    "POOL_SIZE = (2,2)\n",
    "ACTIVATION_R = \"relu\"\n",
    "INPUT_SHAPE = (32,32,3)\n",
    "DROPOUT_FACTOR = 0.2\n",
    "\n",
    "# Dense Layer w Softmax Activation Variable\n",
    "ACTIVATION_S = \"softmax\"\n",
    "CLASSES = 10"
   ]
  },
  {
   "cell_type": "markdown",
   "metadata": {},
   "source": [
    "#### Building Model"
   ]
  },
  {
   "cell_type": "code",
   "execution_count": 6,
   "metadata": {},
   "outputs": [],
   "source": [
    "model = tf.keras.models.Sequential()\n",
    "\n",
    "# First Conv2D Layer\n",
    "model.add(tf.keras.layers.Conv2D(\n",
    "    filters = 32,\n",
    "    kernel_size = KERNEL_SIZE,\n",
    "    # activation method --> method to decide when and which nodes to fire\n",
    "    activation = ACTIVATION_R,\n",
    "    # padding --> adding layers of zero around input images to have the output image be the same size as original input image\n",
    "    padding = 'same',\n",
    "    # height, width, depth\n",
    "    input_shape = INPUT_SHAPE   \n",
    "))\n",
    "model.add(tf.keras.layers.MaxPool2D(POOL_SIZE))\n",
    "model.add(tf.keras.layers.Dropout(DROPOUT_FACTOR))\n",
    "\n",
    "# Second Conv2D Layer\n",
    "model.add(tf.keras.layers.Conv2D(filters = 64, kernel_size = (3,3), activation = ACTIVATION_R))\n",
    "model.add(tf.keras.layers.MaxPool2D(POOL_SIZE))\n",
    "model.add(tf.keras.layers.Dropout(DROPOUT_FACTOR))\n",
    "\n",
    "# Third Conv2D Layer\n",
    "model.add(tf.keras.layers.Conv2D(filters = 128, kernel_size = (3,3), activation = ACTIVATION_R))\n",
    "model.add(tf.keras.layers.MaxPool2D(POOL_SIZE))\n",
    "model.add(tf.keras.layers.Dropout(DROPOUT_FACTOR))\n",
    "\n",
    "# Flattening Layer\n",
    "model.add(tf.keras.layers.Flatten())\n",
    "\n",
    "# Dense Layers\n",
    "model.add(tf.keras.layers.Dense(units = 128, activation = ACTIVATION_R))\n",
    "model.add(tf.keras.layers.Dense(units = CLASSES, activation = ACTIVATION_S))\n",
    "\n"
   ]
  },
  {
   "cell_type": "markdown",
   "metadata": {},
   "source": [
    "#### Model Summary"
   ]
  },
  {
   "cell_type": "code",
   "execution_count": 7,
   "metadata": {},
   "outputs": [
    {
     "name": "stdout",
     "output_type": "stream",
     "text": [
      "Model: \"sequential\"\n",
      "_________________________________________________________________\n",
      " Layer (type)                Output Shape              Param #   \n",
      "=================================================================\n",
      " conv2d (Conv2D)             (None, 32, 32, 32)        896       \n",
      "                                                                 \n",
      " max_pooling2d (MaxPooling2D  (None, 16, 16, 32)       0         \n",
      " )                                                               \n",
      "                                                                 \n",
      " dropout (Dropout)           (None, 16, 16, 32)        0         \n",
      "                                                                 \n",
      " conv2d_1 (Conv2D)           (None, 14, 14, 64)        18496     \n",
      "                                                                 \n",
      " max_pooling2d_1 (MaxPooling  (None, 7, 7, 64)         0         \n",
      " 2D)                                                             \n",
      "                                                                 \n",
      " dropout_1 (Dropout)         (None, 7, 7, 64)          0         \n",
      "                                                                 \n",
      " conv2d_2 (Conv2D)           (None, 5, 5, 128)         73856     \n",
      "                                                                 \n",
      " max_pooling2d_2 (MaxPooling  (None, 2, 2, 128)        0         \n",
      " 2D)                                                             \n",
      "                                                                 \n",
      " dropout_2 (Dropout)         (None, 2, 2, 128)         0         \n",
      "                                                                 \n",
      " flatten (Flatten)           (None, 512)               0         \n",
      "                                                                 \n",
      " dense (Dense)               (None, 128)               65664     \n",
      "                                                                 \n",
      " dense_1 (Dense)             (None, 10)                1290      \n",
      "                                                                 \n",
      "=================================================================\n",
      "Total params: 160,202\n",
      "Trainable params: 160,202\n",
      "Non-trainable params: 0\n",
      "_________________________________________________________________\n"
     ]
    }
   ],
   "source": [
    "# Seeing summary of model\n",
    "model.summary()"
   ]
  },
  {
   "cell_type": "markdown",
   "metadata": {},
   "source": [
    "#### Compiling Model"
   ]
  },
  {
   "cell_type": "code",
   "execution_count": 8,
   "metadata": {},
   "outputs": [],
   "source": [
    "model.compile(\n",
    "   loss=\"categorical_crossentropy\",\n",
    "   optimizer=\"adam\",\n",
    "   metrics=[\"accuracy\"]\n",
    ")"
   ]
  },
  {
   "cell_type": "markdown",
   "metadata": {},
   "source": [
    "## Training (Fitting) & Evaluation of Model"
   ]
  },
  {
   "cell_type": "markdown",
   "metadata": {},
   "source": [
    "#### Defining Fitting Constants "
   ]
  },
  {
   "cell_type": "code",
   "execution_count": 9,
   "metadata": {},
   "outputs": [],
   "source": [
    "BATCH_SIZE = 32\n",
    "EPOCHS = 20"
   ]
  },
  {
   "cell_type": "code",
   "execution_count": 10,
   "metadata": {},
   "outputs": [
    {
     "name": "stdout",
     "output_type": "stream",
     "text": [
      "Epoch 1/20\n",
      "1563/1563 [==============================] - 76s 47ms/step - loss: 1.7430 - accuracy: 0.3618\n",
      "Epoch 2/20\n",
      "1563/1563 [==============================] - 88s 57ms/step - loss: 1.3704 - accuracy: 0.5135\n",
      "Epoch 3/20\n",
      "1563/1563 [==============================] - 82s 52ms/step - loss: 1.2372 - accuracy: 0.5654\n",
      "Epoch 4/20\n",
      "1563/1563 [==============================] - 75s 48ms/step - loss: 1.1499 - accuracy: 0.5989\n",
      "Epoch 5/20\n",
      "1563/1563 [==============================] - 84s 54ms/step - loss: 1.0854 - accuracy: 0.6176\n",
      "Epoch 6/20\n",
      "1563/1563 [==============================] - 83s 53ms/step - loss: 1.0335 - accuracy: 0.6385\n",
      "Epoch 7/20\n",
      "1563/1563 [==============================] - 66s 42ms/step - loss: 0.9953 - accuracy: 0.6512\n",
      "Epoch 8/20\n",
      "1563/1563 [==============================] - 55s 35ms/step - loss: 0.9619 - accuracy: 0.6639\n",
      "Epoch 9/20\n",
      "1563/1563 [==============================] - 58s 37ms/step - loss: 0.9284 - accuracy: 0.6747\n",
      "Epoch 10/20\n",
      "1563/1563 [==============================] - 56s 36ms/step - loss: 0.9073 - accuracy: 0.6841\n",
      "Epoch 11/20\n",
      "1563/1563 [==============================] - 53s 34ms/step - loss: 0.8818 - accuracy: 0.6910\n",
      "Epoch 12/20\n",
      "1563/1563 [==============================] - 58s 37ms/step - loss: 0.8597 - accuracy: 0.6994\n",
      "Epoch 13/20\n",
      "1563/1563 [==============================] - 57s 36ms/step - loss: 0.8452 - accuracy: 0.7028\n",
      "Epoch 14/20\n",
      "1563/1563 [==============================] - 57s 36ms/step - loss: 0.8225 - accuracy: 0.7108\n",
      "Epoch 15/20\n",
      "1563/1563 [==============================] - 67s 43ms/step - loss: 0.8103 - accuracy: 0.7173\n",
      "Epoch 16/20\n",
      "1563/1563 [==============================] - 68s 43ms/step - loss: 0.8036 - accuracy: 0.7182\n",
      "Epoch 17/20\n",
      "1563/1563 [==============================] - 65s 42ms/step - loss: 0.7860 - accuracy: 0.7246\n",
      "Epoch 18/20\n",
      "1563/1563 [==============================] - 67s 43ms/step - loss: 0.7748 - accuracy: 0.7291\n",
      "Epoch 19/20\n",
      "1563/1563 [==============================] - 66s 43ms/step - loss: 0.7603 - accuracy: 0.7323\n",
      "Epoch 20/20\n",
      "1563/1563 [==============================] - 67s 43ms/step - loss: 0.7553 - accuracy: 0.7332\n"
     ]
    }
   ],
   "source": [
    "# print(x_train)\n",
    "# print(y_train)\n",
    "\n",
    "training = model.fit(xTrain, yTrain, batch_size = BATCH_SIZE, epochs = EPOCHS)"
   ]
  },
  {
   "cell_type": "markdown",
   "metadata": {},
   "source": [
    "#### Evaluating Model"
   ]
  },
  {
   "cell_type": "code",
   "execution_count": 11,
   "metadata": {},
   "outputs": [
    {
     "name": "stdout",
     "output_type": "stream",
     "text": [
      "313/313 [==============================] - 4s 11ms/step - loss: 0.8070 - accuracy: 0.7247\n"
     ]
    }
   ],
   "source": [
    "valLoss, valAccuracy = model.evaluate(xTest, yTest)"
   ]
  },
  {
   "cell_type": "markdown",
   "metadata": {},
   "source": [
    "## Plotting Graphs"
   ]
  },
  {
   "cell_type": "markdown",
   "metadata": {},
   "source": [
    "#### Defining Plot Variables"
   ]
  },
  {
   "cell_type": "code",
   "execution_count": 30,
   "metadata": {},
   "outputs": [],
   "source": [
    "loss = training.history['loss']\n",
    "accuracy = training.history['accuracy']\n",
    "epochs = [i+1 for i in range(len(loss))]"
   ]
  },
  {
   "cell_type": "markdown",
   "metadata": {},
   "source": [
    "#### Plotting Graphs"
   ]
  },
  {
   "cell_type": "code",
   "execution_count": 31,
   "metadata": {},
   "outputs": [
    {
     "data": {
      "image/png": "[encoded data removed]",
      "text/plain": [
       "<Figure size 432x288 with 1 Axes>"
      ]
     },
     "metadata": {
      "needs_background": "light"
     },
     "output_type": "display_data"
    },
    {
     "data": {
      "text/plain": [
       "<Figure size 432x288 with 0 Axes>"
      ]
     },
     "metadata": {},
     "output_type": "display_data"
    },
    {
     "data": {
      "image/png": "[encoded data removed]",
      "text/plain": [
       "<Figure size 432x288 with 1 Axes>"
      ]
     },
     "metadata": {
      "needs_background": "light"
     },
     "output_type": "display_data"
    },
    {
     "data": {
      "text/plain": [
       "<Figure size 432x288 with 0 Axes>"
      ]
     },
     "metadata": {},
     "output_type": "display_data"
    }
   ],
   "source": [
    "plot_graph(x=epochs, y=loss, fmt=\"-m\", title=\"Training Loss over Epochs\", xLabel=\"Epochs\", yLabel=\"Loss\")\n",
    "plot_graph(x=epochs, y=accuracy, fmt=\"-g\", title=\"Training Accuracy over Epochs\", xLabel=\"Epochs\", yLabel=\"Accuracy\")"
   ]
  },
  {
   "cell_type": "markdown",
   "metadata": {},
   "source": [
    "## Summary of Model"
   ]
  },
  {
   "cell_type": "code",
   "execution_count": 34,
   "metadata": {},
   "outputs": [
    {
     "name": "stdout",
     "output_type": "stream",
     "text": [
      "Training Loss: 0.7553197741508484\n",
      "Training Accuracy: 0.7331600189208984\n",
      "--------------------------------------\n",
      "Validation Loss: 0.807018518447876\n",
      "Training Accuracy: 0.7246999740600586\n"
     ]
    }
   ],
   "source": [
    "print(f\"Training Loss: {loss[-1]}\")\n",
    "print(f\"Training Accuracy: {accuracy[-1]}\")\n",
    "print(\"--------------------------------------\")\n",
    "print(f\"Validation Loss: {valLoss}\")\n",
    "print(f\"Training Accuracy: {valAccuracy}\")\n"
   ]
  }
 ],
 "metadata": {
  "interpreter": {
   "hash": "68c591502805fb46512319a8f38fddd123f1a0260155fa41c7311a007e59953e"
  },
  "kernelspec": {
   "display_name": "Python 3.9.6 64-bit ('env': venv)",
   "language": "python",
   "name": "python3"
  },
  "language_info": {
   "codemirror_mode": {
    "name": "ipython",
    "version": 3
   },
   "file_extension": ".py",
   "mimetype": "text/x-python",
   "name": "python",
   "nbconvert_exporter": "python",
   "pygments_lexer": "ipython3",
   "version": "3.9.6"
  },
  "orig_nbformat": 4
 },
 "nbformat": 4,
 "nbformat_minor": 2
}
